{
 "cells": [
  {
   "cell_type": "markdown",
   "id": "97c99978",
   "metadata": {},
   "source": [
    "#### Q. Indexing and Negative Indexing (How can You reverse a string through indexing?)"
   ]
  },
  {
   "cell_type": "code",
   "execution_count": 5,
   "id": "561d6ace",
   "metadata": {},
   "outputs": [
    {
     "data": {
      "text/plain": [
       "[8, 2, 7, 4]"
      ]
     },
     "execution_count": 5,
     "metadata": {},
     "output_type": "execute_result"
    }
   ],
   "source": [
    "lst = [4,7,2,8]\n",
    "#positive indexing is 0,1,2,3 --->\n",
    "#negative indexing is -4 -3 -2 -1 <----\n",
    "\n",
    "lst [3] #--- 8\n",
    "lst [-2] # --- 2\n",
    "lst[::-1]"
   ]
  },
  {
   "cell_type": "markdown",
   "id": "ee5feec9",
   "metadata": {},
   "source": [
    "#### Q. example given the string \"Welcome to the danger zone\" should become \"zone danger the to Welcome\" and not enoz regnad eht ot emocleW"
   ]
  },
  {
   "cell_type": "code",
   "execution_count": 2,
   "id": "2cb16143",
   "metadata": {},
   "outputs": [
    {
     "name": "stdout",
     "output_type": "stream",
     "text": [
      "zone danger the to Welcome \n"
     ]
    }
   ],
   "source": [
    "# Step 1: split the sentence into words and then \n",
    "# Step 2: loop through the elements and append the elements\n",
    "str = \"Welcome to the danger zone\"\n",
    "str_list = str.split()\n",
    "out_str = \"\"\n",
    "for word in str_list[::-1]:\n",
    "    out_str = out_str + word + \" \"\n",
    "print(out_str)"
   ]
  },
  {
   "cell_type": "code",
   "execution_count": 4,
   "id": "9665c569",
   "metadata": {},
   "outputs": [
    {
     "name": "stdout",
     "output_type": "stream",
     "text": [
      "zone danger the to Welcome\n"
     ]
    }
   ],
   "source": [
    "str = \"Welcome to the danger zone\"\n",
    "str_list = str.split()\n",
    "out_str_2 = \" \".join([word for word in str_list[::-1]])\n",
    "print(out_str_2)"
   ]
  },
  {
   "cell_type": "markdown",
   "id": "79a8379e",
   "metadata": {},
   "source": [
    "#### Q. You are given a string input, let's say \"Hello World!\". Your output should be, how many times each character is showing up in the string. So, in this example, it should write:\n",
    "\n",
    "H: 1 e: 1 l: 3 o: 2"
   ]
  },
  {
   "cell_type": "code",
   "execution_count": 6,
   "id": "3b3b26b0",
   "metadata": {},
   "outputs": [
    {
     "name": "stdout",
     "output_type": "stream",
     "text": [
      "{'H': 1, 'e': 1, 'l': 3, 'o': 2, ' ': 1, 'W': 1, 'r': 1, 'd': 1}\n"
     ]
    }
   ],
   "source": [
    "str_hello = \"Hello World\"\n",
    "out_dict = {}\n",
    "for elm in str_hello:\n",
    "    if out_dict.get(elm):\n",
    "        val = out_dict.get(elm)\n",
    "        val = val +1\n",
    "        out_dict[elm] = val\n",
    "    else:\n",
    "        out_dict[elm] = 1\n",
    "print(out_dict)\n",
    "        "
   ]
  },
  {
   "cell_type": "markdown",
   "id": "0b5db718",
   "metadata": {},
   "source": [
    "#### Q. What is difference between python scripts and Modules?"
   ]
  },
  {
   "cell_type": "code",
   "execution_count": null,
   "id": "c19c47c3",
   "metadata": {},
   "outputs": [],
   "source": [
    "# Theory Question\n",
    "# Scripts -- we are generally executes , where as modules are supposed to imported in other scripts or modules\n",
    "#Python script is a directly executable piece of code run by itself.\\n\",\n",
    "#Module is a library imported by other pieces of code.\n",
    "#Scripts are top level files intended for execution and \\n\",\n",
    "#Modules are intented to be imported..."
   ]
  },
  {
   "cell_type": "markdown",
   "id": "ceb9ee6c",
   "metadata": {},
   "source": [
    "#### Q. What is the difference between lists and tuples? Which is faster, which is more size ..etc?"
   ]
  },
  {
   "cell_type": "code",
   "execution_count": null,
   "id": "8d44a966",
   "metadata": {},
   "outputs": [],
   "source": [
    "#List is mutable where as tuple is immutable.\n",
    "#list is used to perfom operations like adding ,deleting etc. where as tuple is used for accessesing.\n",
    "#list will take more time when compared to tuple while iterations.\n",
    "#list consume more memory where as tuple consumes less memory."
   ]
  },
  {
   "cell_type": "code",
   "execution_count": 14,
   "id": "d60aaab2",
   "metadata": {},
   "outputs": [
    {
     "name": "stdout",
     "output_type": "stream",
     "text": [
      "lst time 0.04228091239929199\n",
      "start_tuple time 0.005048274993896484\n"
     ]
    }
   ],
   "source": [
    "# https://www.educative.io/edpresso/tuples-vs-list-in-python#:~:text=Tuple%20has%20a%20small%20memory.&text=Tuple%20is%20stored%20in%20a,faster%20than%20creating%20a%20list.\n",
    "\n",
    "import time\n",
    "import random\n",
    "\n",
    "start_time = time.time()\n",
    "lst = random.sample(range(10, 300000), 50000)\n",
    "\n",
    "\n",
    "sum = 0\n",
    "for elm in lst:\n",
    "    sum = sum + elm\n",
    "end_time = time.time()\n",
    "print(\"lst time\", end_time -start_time)\n",
    "\n",
    "start_time = time.time()\n",
    "start_tuple = tuple(lst)\n",
    "sum = 0\n",
    "for elm in start_tuple:\n",
    "    sum = sum + elm\n",
    "end_time = time.time()\n",
    "print(\"start_tuple time\", end_time -start_time)\n"
   ]
  },
  {
   "cell_type": "code",
   "execution_count": 16,
   "id": "10d76629",
   "metadata": {},
   "outputs": [
    {
     "name": "stdout",
     "output_type": "stream",
     "text": [
      "400040\n"
     ]
    }
   ],
   "source": [
    "print(lst.__sizeof__())"
   ]
  },
  {
   "cell_type": "code",
   "execution_count": 17,
   "id": "1610c0af",
   "metadata": {},
   "outputs": [
    {
     "name": "stdout",
     "output_type": "stream",
     "text": [
      "400024\n"
     ]
    }
   ],
   "source": [
    "print(start_tuple.__sizeof__())"
   ]
  },
  {
   "cell_type": "markdown",
   "id": "8b568f4d",
   "metadata": {},
   "source": [
    "#### Q. List append and extend method difference?"
   ]
  },
  {
   "cell_type": "code",
   "execution_count": null,
   "id": "bf078404",
   "metadata": {},
   "outputs": [],
   "source": [
    "#append() method will adds its argument as a single element to list of items at the end.\n",
    "#extend() method will add list of items individually at the end."
   ]
  },
  {
   "cell_type": "code",
   "execution_count": 32,
   "id": "6a62e4f2",
   "metadata": {},
   "outputs": [],
   "source": [
    "lst_or = [2,3,4,5,6]\n",
    "lst_append = [3,4,5]\n",
    "lst_ext = [9,8,7]"
   ]
  },
  {
   "cell_type": "code",
   "execution_count": 33,
   "id": "8e623bb6",
   "metadata": {},
   "outputs": [
    {
     "data": {
      "text/plain": [
       "[2, 3, 4, 5, 6, [3, 4, 5]]"
      ]
     },
     "execution_count": 33,
     "metadata": {},
     "output_type": "execute_result"
    }
   ],
   "source": [
    "lst_or.append(lst_append)\n",
    "lst_or"
   ]
  },
  {
   "cell_type": "code",
   "execution_count": 34,
   "id": "6d06e1ea",
   "metadata": {},
   "outputs": [
    {
     "data": {
      "text/plain": [
       "[2, 3, 4, 5, 6, [3, 4, 5], 9, 8, 7]"
      ]
     },
     "execution_count": 34,
     "metadata": {},
     "output_type": "execute_result"
    }
   ],
   "source": [
    "lst_or.extend(lst_ext)\n",
    "lst_or"
   ]
  },
  {
   "cell_type": "markdown",
   "id": "fca842c4",
   "metadata": {},
   "source": [
    "#### Q. Remove, pop and delete method difference on list?"
   ]
  },
  {
   "cell_type": "code",
   "execution_count": null,
   "id": "b26978fd",
   "metadata": {},
   "outputs": [],
   "source": [
    "#remove() will removes first matching value from the list.\n",
    "#pop() will deletes the specified index value item and returns deleted value.\n",
    "#clear() will removes total value from object."
   ]
  },
  {
   "cell_type": "markdown",
   "id": "e3113f9a",
   "metadata": {},
   "source": [
    "lst_or.remove(4)"
   ]
  },
  {
   "cell_type": "code",
   "execution_count": 36,
   "id": "91216a53",
   "metadata": {},
   "outputs": [
    {
     "data": {
      "text/plain": [
       "[2, 3, 5, 6, [3, 4, 5], 9, 8, 7]"
      ]
     },
     "execution_count": 36,
     "metadata": {},
     "output_type": "execute_result"
    }
   ],
   "source": [
    "lst_or"
   ]
  },
  {
   "cell_type": "code",
   "execution_count": 37,
   "id": "cc3f7195",
   "metadata": {},
   "outputs": [
    {
     "ename": "ValueError",
     "evalue": "list.remove(x): x not in list",
     "output_type": "error",
     "traceback": [
      "\u001b[1;31m---------------------------------------------------------------------------\u001b[0m",
      "\u001b[1;31mValueError\u001b[0m                                Traceback (most recent call last)",
      "\u001b[1;32mC:\\Users\\VINODK~1\\AppData\\Local\\Temp/ipykernel_11052/3825530377.py\u001b[0m in \u001b[0;36m<module>\u001b[1;34m\u001b[0m\n\u001b[1;32m----> 1\u001b[1;33m \u001b[0mlst_or\u001b[0m\u001b[1;33m.\u001b[0m\u001b[0mremove\u001b[0m\u001b[1;33m(\u001b[0m\u001b[1;36m455\u001b[0m\u001b[1;33m)\u001b[0m\u001b[1;33m\u001b[0m\u001b[1;33m\u001b[0m\u001b[0m\n\u001b[0m",
      "\u001b[1;31mValueError\u001b[0m: list.remove(x): x not in list"
     ]
    }
   ],
   "source": [
    "lst_or.remove(455)"
   ]
  },
  {
   "cell_type": "code",
   "execution_count": 38,
   "id": "128fed68",
   "metadata": {},
   "outputs": [
    {
     "data": {
      "text/plain": [
       "7"
      ]
     },
     "execution_count": 38,
     "metadata": {},
     "output_type": "execute_result"
    }
   ],
   "source": [
    "lst_or.pop()"
   ]
  },
  {
   "cell_type": "code",
   "execution_count": 39,
   "id": "830e0b53",
   "metadata": {},
   "outputs": [
    {
     "data": {
      "text/plain": [
       "[2, 3, 6, [3, 4, 5], 9, 8]"
      ]
     },
     "execution_count": 39,
     "metadata": {},
     "output_type": "execute_result"
    }
   ],
   "source": [
    "del lst_or[2]\n",
    "lst_or"
   ]
  },
  {
   "cell_type": "markdown",
   "id": "cc4d97aa",
   "metadata": {},
   "source": [
    "Q. Check if a list contains an element"
   ]
  },
  {
   "cell_type": "code",
   "execution_count": 40,
   "id": "f59e05ac",
   "metadata": {},
   "outputs": [],
   "source": [
    "if 6 in lst:\n",
    "    print(\"element is there\")"
   ]
  },
  {
   "cell_type": "code",
   "execution_count": 41,
   "id": "af727a66",
   "metadata": {},
   "outputs": [
    {
     "name": "stdout",
     "output_type": "stream",
     "text": [
      "element is not there\n"
     ]
    }
   ],
   "source": [
    "if 300 not in lst:\n",
    "    print(\"element is not there\")"
   ]
  },
  {
   "cell_type": "markdown",
   "id": "5f2a6762",
   "metadata": {},
   "source": [
    "Q. What does “del” do?"
   ]
  },
  {
   "cell_type": "code",
   "execution_count": 42,
   "id": "0cd32421",
   "metadata": {},
   "outputs": [],
   "source": [
    "# remove the element from the given object, we can use this for all mutuble objects"
   ]
  },
  {
   "cell_type": "markdown",
   "id": "b2527eb7",
   "metadata": {},
   "source": [
    "Q. Find the index of the 1st matching element?"
   ]
  },
  {
   "cell_type": "code",
   "execution_count": 45,
   "id": "8dd7324a",
   "metadata": {},
   "outputs": [
    {
     "data": {
      "text/plain": [
       "4"
      ]
     },
     "execution_count": 45,
     "metadata": {},
     "output_type": "execute_result"
    }
   ],
   "source": [
    "lst_or.index(9)"
   ]
  },
  {
   "cell_type": "code",
   "execution_count": 46,
   "id": "d5e49470",
   "metadata": {},
   "outputs": [],
   "source": [
    "lst_or.extend([2,3,9])"
   ]
  },
  {
   "cell_type": "code",
   "execution_count": 48,
   "id": "161f5644",
   "metadata": {},
   "outputs": [
    {
     "data": {
      "text/plain": [
       "[2, 3, 6, [3, 4, 5], 9, 8, 2, 3, 9]"
      ]
     },
     "execution_count": 48,
     "metadata": {},
     "output_type": "execute_result"
    }
   ],
   "source": [
    "lst_or"
   ]
  },
  {
   "cell_type": "code",
   "execution_count": 49,
   "id": "441c15ab",
   "metadata": {},
   "outputs": [
    {
     "data": {
      "text/plain": [
       "[4, 8]"
      ]
     },
     "execution_count": 49,
     "metadata": {},
     "output_type": "execute_result"
    }
   ],
   "source": [
    " [index for index, char in enumerate(lst_or) if char == 9]"
   ]
  },
  {
   "cell_type": "markdown",
   "id": "7dd21c18",
   "metadata": {},
   "source": [
    "Q. Remove all elements from a list?"
   ]
  },
  {
   "cell_type": "code",
   "execution_count": 50,
   "id": "5175e018",
   "metadata": {},
   "outputs": [
    {
     "data": {
      "text/plain": [
       "[]"
      ]
     },
     "execution_count": 50,
     "metadata": {},
     "output_type": "execute_result"
    }
   ],
   "source": [
    "lst_or.clear()\n",
    "lst_or"
   ]
  },
  {
   "cell_type": "markdown",
   "id": "5d553218",
   "metadata": {},
   "source": [
    "Q. Count the occurrence of a specific object in a list?"
   ]
  },
  {
   "cell_type": "code",
   "execution_count": null,
   "id": "e77903ee",
   "metadata": {},
   "outputs": [],
   "source": [
    "# Explained below "
   ]
  },
  {
   "cell_type": "markdown",
   "id": "d5f66920",
   "metadata": {},
   "source": [
    "Q. Return the length of a list?"
   ]
  },
  {
   "cell_type": "code",
   "execution_count": 52,
   "id": "2437f46f",
   "metadata": {},
   "outputs": [
    {
     "data": {
      "text/plain": [
       "50000"
      ]
     },
     "execution_count": 52,
     "metadata": {},
     "output_type": "execute_result"
    }
   ],
   "source": [
    "len(lst)"
   ]
  },
  {
   "cell_type": "markdown",
   "id": "60df95cf",
   "metadata": {},
   "source": [
    "\n",
    "Q. Reverse a list in Python \n",
    "   list1 = [100, 200, 300, 400, 500] --- >[500, 400, 300, 200, 100]\n",
    "\n",
    "\n",
    "Q. Concatenate two lists index-wise \n",
    "list1 = [\"M\", \"na\", \"i\", \"Ke\"]\n",
    "list2 = [\"y\", \"me\", \"s\", \"lly\"] --- >['My', 'name', 'is', 'Kelly']"
   ]
  },
  {
   "cell_type": "markdown",
   "id": "a7d10a4f",
   "metadata": {},
   "source": [
    "\n",
    "Q. Turn every item of a list into its square \n",
    "   numbers = [1, 2, 3, 4, 5, 6, 7] --- >[1, 4, 9, 16, 25, 36, 49]"
   ]
  },
  {
   "cell_type": "markdown",
   "id": "675b56bb",
   "metadata": {},
   "source": [
    "\n",
    "Q. Concatenate two lists in the following order -- \n",
    "list1 = [\"Hello \", \"take \"]\n",
    "list2 = [\"Dear\", \"Sir\"] ----- >['Hello Dear', 'Hello Sir', 'take Dear', 'take Sir']"
   ]
  },
  {
   "cell_type": "markdown",
   "id": "d70554fe",
   "metadata": {},
   "source": [
    "Q. Iterate both lists simultaneously\n",
    "list1 = [10, 20, 30, 40]\n",
    "list2 = [100, 200, 300, 400] ---- >\n",
    "10 400\n",
    "20 300\n",
    "30 200\n",
    "40 100  "
   ]
  },
  {
   "cell_type": "markdown",
   "id": "106cca12",
   "metadata": {},
   "source": [
    "Q. Remove empty strings from the list of strings\n",
    "list1 = [\"Mike\", \"\", \"Emma\", \"Kelly\", \"\", \"Brad\"] --- >[\"Mike\", \"Emma\", \"Kelly\", \"Brad\"]"
   ]
  },
  {
   "cell_type": "markdown",
   "id": "d9713ac8",
   "metadata": {},
   "source": [
    "\n",
    "Q. Add new item to list after a specified item --- >\n",
    "list1 = [10, 20, [300, 400, [5000, 6000], 500], 30, 40] --->[10, 20, [300, 400, [5000, 6000, 7000], 500], 30, 40]\n"
   ]
  },
  {
   "cell_type": "markdown",
   "id": "dda982e7",
   "metadata": {},
   "source": [
    "Q. Extend nested list by adding the sublist\n",
    "list1 = [\"a\", \"b\", [\"c\", [\"d\", \"e\", [\"f\", \"g\"], \"k\"], \"l\"], \"m\", \"n\"]\n",
    "\n",
    "\n",
    "# sub list to add\n",
    "sub_list = [\"h\", \"i\", \"j\"]\n",
    "\n",
    "---- > ['a', 'b', ['c', ['d', 'e', ['f', 'g', 'h', 'i', 'j'], 'k'], 'l'], 'm', 'n']\n"
   ]
  },
  {
   "cell_type": "markdown",
   "id": "3f366363",
   "metadata": {},
   "source": [
    "Q.Replace list’s item with new value if found\n",
    "list1 = [5, 10, 15, 20, 25, 50, 20] ---- >[5, 10, 15, 200, 25, 50, 20]\n"
   ]
  },
  {
   "cell_type": "code",
   "execution_count": null,
   "id": "f7099bc2",
   "metadata": {},
   "outputs": [],
   "source": []
  },
  {
   "cell_type": "code",
   "execution_count": null,
   "id": "44062b9d",
   "metadata": {},
   "outputs": [],
   "source": []
  },
  {
   "cell_type": "code",
   "execution_count": null,
   "id": "5479d7a5",
   "metadata": {},
   "outputs": [],
   "source": []
  },
  {
   "cell_type": "code",
   "execution_count": null,
   "id": "73dcb3d9",
   "metadata": {},
   "outputs": [],
   "source": []
  }
 ],
 "metadata": {
  "kernelspec": {
   "display_name": "Python 3",
   "language": "python",
   "name": "python3"
  },
  "language_info": {
   "codemirror_mode": {
    "name": "ipython",
    "version": 3
   },
   "file_extension": ".py",
   "mimetype": "text/x-python",
   "name": "python",
   "nbconvert_exporter": "python",
   "pygments_lexer": "ipython3",
   "version": "3.8.8"
  }
 },
 "nbformat": 4,
 "nbformat_minor": 5
}
