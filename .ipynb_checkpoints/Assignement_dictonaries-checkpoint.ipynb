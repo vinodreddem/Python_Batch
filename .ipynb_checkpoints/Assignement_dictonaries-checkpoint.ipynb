{
 "cells": [
  {
   "cell_type": "markdown",
   "id": "48e925e6",
   "metadata": {},
   "source": [
    "##### Q. Convert snake case into Camel case and vice versa\n",
    "   inp = \"is_valid_number\" --->isValidNumber"
   ]
  },
  {
   "cell_type": "code",
   "execution_count": 38,
   "id": "a8d9184c",
   "metadata": {},
   "outputs": [
    {
     "name": "stdout",
     "output_type": "stream",
     "text": [
      "isValidNumber\n"
     ]
    }
   ],
   "source": [
    "inp='is_valid_number'\n",
    "l=inp.split('_')\n",
    "for i in range(1,len(l)):\n",
    "    l[i]=l[i].capitalize()      \n",
    "print(''.join(l))"
   ]
  },
  {
   "cell_type": "markdown",
   "id": "56ae7dd3",
   "metadata": {},
   "source": [
    "#### Q. \"\"\"ABCDE --- Move 2 positions cyclic (Use Mod to length of string if Cyclic position is greater than length)\n",
    "      Now result is ---CDEAB\n",
    "      input : ABCDE\n",
    "      output: CDEAB  \n",
    "    \"\"\""
   ]
  },
  {
   "cell_type": "code",
   "execution_count": 43,
   "id": "a1c5f8b2",
   "metadata": {},
   "outputs": [
    {
     "name": "stdout",
     "output_type": "stream",
     "text": [
      "CDEFGHAB\n"
     ]
    }
   ],
   "source": [
    "a='ABCDEFGH'\n",
    "print(a[2:]+a[:2])\n",
    "    "
   ]
  },
  {
   "cell_type": "markdown",
   "id": "4ff03d86",
   "metadata": {},
   "source": [
    "#### Q. group the elements like below \n",
    " \n",
    " input : ['abt','bta','tab','bar','dsksllkd','tba']\n",
    " \n",
    " output : [['abt', 'bta', 'tab', 'tba'], ['bar'], ['dsksllkd']]        "
   ]
  },
  {
   "cell_type": "code",
   "execution_count": 71,
   "id": "49f57806",
   "metadata": {},
   "outputs": [
    {
     "name": "stdout",
     "output_type": "stream",
     "text": [
      "['abt', 'bta', 'tab', 'tba', ['bar'], ['dsksllkd']]\n"
     ]
    }
   ],
   "source": [
    "l1=[]\n",
    "l2=[]\n",
    "a=0\n",
    "input=['abt','bta','tab','bar','dsksllkd','tba']\n",
    "for i in input:\n",
    "    for j in range(len(i)):\n",
    "        if i[j] in ['a','b','t']:\n",
    "            a+=1\n",
    "    if a==len(i):\n",
    "        l1.append(i)\n",
    "    else:\n",
    "        l2.append([i])\n",
    "    a=0\n",
    "l1.extend(l2)\n",
    "print(l1)\n"
   ]
  },
  {
   "cell_type": "markdown",
   "id": "ede4f456",
   "metadata": {},
   "source": [
    "#### Q. Shift all zeroes to last\n",
    "\n",
    "lst = [1,0,1,0,0,1,1,0]"
   ]
  },
  {
   "cell_type": "code",
   "execution_count": 80,
   "id": "a9eb46e6",
   "metadata": {},
   "outputs": [
    {
     "name": "stdout",
     "output_type": "stream",
     "text": [
      "[1, 1, 1, 1, 0, 0, 0, 0]\n"
     ]
    }
   ],
   "source": [
    "lst=[1,0,1,0,0,1,1,0]\n",
    "lst.sort(reverse=True)\n",
    "print(lst)"
   ]
  },
  {
   "cell_type": "markdown",
   "id": "e6ce7fe3",
   "metadata": {},
   "source": [
    "#### Q. \"\"\"AAAABBBCCDDDD you have to print it as 4A3B2C4D\"\"\""
   ]
  },
  {
   "cell_type": "code",
   "execution_count": 91,
   "id": "8c8525e2",
   "metadata": {},
   "outputs": [
    {
     "name": "stdout",
     "output_type": "stream",
     "text": [
      "4A3B2C4D\n"
     ]
    }
   ],
   "source": [
    "import collections\n",
    "s='AAAABBBCCDDDD'\n",
    "so=''\n",
    "for key,value in collections.Counter(s).items():\n",
    "    so+=str(value)+key\n",
    "print(so)"
   ]
  },
  {
   "cell_type": "markdown",
   "id": "1de691d2",
   "metadata": {},
   "source": [
    "#### Q. example given the string \"Welcome to the danger zone\" should become \"zone danger the to Welcome\" and not enoz regnad eht ot emocleW"
   ]
  },
  {
   "cell_type": "code",
   "execution_count": 94,
   "id": "f9edfa08",
   "metadata": {},
   "outputs": [
    {
     "data": {
      "text/plain": [
       "'zone danger the to Welcome'"
      ]
     },
     "execution_count": 94,
     "metadata": {},
     "output_type": "execute_result"
    }
   ],
   "source": [
    "s1='Welcome to the danger zone'\n",
    "' '.join(s1.split(' ')[::-1])"
   ]
  },
  {
   "cell_type": "markdown",
   "id": "c65c4dee",
   "metadata": {},
   "source": [
    "#### Q. You are given a string input, let's say \"Hello World!\". Your output should be, how many times each character is showing up in the string. So, in this example, it should write:\n",
    "\n",
    "H: 1 e: 1 l: 3 o: 2"
   ]
  },
  {
   "cell_type": "code",
   "execution_count": 101,
   "id": "7949b7c2",
   "metadata": {},
   "outputs": [
    {
     "name": "stdout",
     "output_type": "stream",
     "text": [
      "H:1 e:1 l:3 o:2 W:1 r:1 d:1 "
     ]
    }
   ],
   "source": [
    "import collections as c\n",
    "s2='Hello World'\n",
    "for key,value in c.Counter(s2).items():\n",
    "    if key!=' ':\n",
    "        print(f'{key}:{value} ',end='')"
   ]
  }
 ],
 "metadata": {
  "kernelspec": {
   "display_name": "Python 3",
   "language": "python",
   "name": "python3"
  },
  "language_info": {
   "codemirror_mode": {
    "name": "ipython",
    "version": 3
   },
   "file_extension": ".py",
   "mimetype": "text/x-python",
   "name": "python",
   "nbconvert_exporter": "python",
   "pygments_lexer": "ipython3",
   "version": "3.8.8"
  }
 },
 "nbformat": 4,
 "nbformat_minor": 5
}
